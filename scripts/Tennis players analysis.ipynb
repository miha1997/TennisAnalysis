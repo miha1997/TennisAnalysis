{
 "cells": [
  {
   "cell_type": "markdown",
   "metadata": {},
   "source": [
    "# Analiza mreže teniskih igrača"
   ]
  },
  {
   "cell_type": "markdown",
   "metadata": {},
   "source": [
    "Učitvanje podataka"
   ]
  },
  {
   "cell_type": "code",
   "execution_count": 30,
   "metadata": {},
   "outputs": [
    {
     "name": "stdout",
     "output_type": "stream",
     "text": [
      "dataMatches2018: (2889, 49)\n",
      "dataRanks10: (916296, 4)\n",
      "dataPlayers: (54974, 6)\n"
     ]
    }
   ],
   "source": [
    "import pandas as pd\n",
    "dataMatches2018Path = \"../data/atp_matches_2018.csv\"\n",
    "dataRanks10Path = \"../data/atp_rankings_10s.csv\"\n",
    "dataPlayersPath = \"../data/atp_players.csv\"\n",
    "\n",
    "dataMatches2018 = pd.read_csv(dataMatches2018Path)\n",
    "\n",
    "dataRanks10 = pd.read_csv(dataRanks10Path)\n",
    "\n",
    "#data modified so it contains header\n",
    "dataPlayers = pd.read_csv(dataPlayersPath)\n",
    "\n",
    "print('dataMatches2018: ' + str(dataMatches2018.shape))\n",
    "\n",
    "print('dataRanks10: ' + str(dataRanks10.shape))\n",
    "\n",
    "print('dataPlayers: ' + str(dataPlayers.shape))"
   ]
  },
  {
   "cell_type": "markdown",
   "metadata": {},
   "source": [
    "Kreiranje sekundarnog skupa podataka"
   ]
  },
  {
   "cell_type": "code",
   "execution_count": 31,
   "metadata": {},
   "outputs": [
    {
     "name": "stdout",
     "output_type": "stream",
     "text": [
      "check for empty values: \n",
      "ranking_date    False\n",
      "rank            False\n",
      "player          False\n",
      "points           True\n",
      "dtype: bool\n",
      "\n"
     ]
    }
   ],
   "source": [
    "#convert player_id and date to string\n",
    "dataRanks10['player'] = dataRanks10['player'].astype(str)\n",
    "dataRanks10['ranking_date'] = dataRanks10['ranking_date'].astype(str)\n",
    "\n",
    "#select only rows near 2018\n",
    "dataRanks10 = dataRanks10.iloc[761970:,]\n",
    "\n",
    "#print(dataRanks10.shape)\n",
    "#dataRanks10.drop_duplicates()\n",
    "#print(dataRanks10.shape)\n",
    "\n",
    "print('check for empty values: \\n' + str(dataRanks10.isna().any()) + '\\n')"
   ]
  },
  {
   "cell_type": "code",
   "execution_count": 32,
   "metadata": {},
   "outputs": [
    {
     "name": "stdout",
     "output_type": "stream",
     "text": [
      "before dropping duplicates: (2889, 8)\n",
      "after dropping duplicates: (2889, 8)\n",
      "\n",
      "check for empty values: \n",
      "tourney_id       False\n",
      "tourney_name     False\n",
      "surface          False\n",
      "tourney_level    False\n",
      "tourney_date     False\n",
      "winner_id        False\n",
      "loser_id         False\n",
      "round            False\n",
      "dtype: bool\n",
      "\n",
      "print data types: \n",
      "tourney_id       object\n",
      "tourney_name     object\n",
      "surface          object\n",
      "tourney_level    object\n",
      "tourney_date      int64\n",
      "winner_id        object\n",
      "loser_id         object\n",
      "round            object\n",
      "dtype: object\n",
      "\n",
      "  tourney_id tourney_name surface tourney_level  tourney_date winner_id  \\\n",
      "0  2018-M020     Brisbane    Hard             A      20180101    105992   \n",
      "1  2018-M020     Brisbane    Hard             A      20180101    111577   \n",
      "2  2018-M020     Brisbane    Hard             A      20180101    104797   \n",
      "3  2018-M020     Brisbane    Hard             A      20180101    200282   \n",
      "4  2018-M020     Brisbane    Hard             A      20180101    111581   \n",
      "\n",
      "  loser_id round  \n",
      "0   104919   R32  \n",
      "1   111442   R32  \n",
      "2   106000   R32  \n",
      "3   105449   R32  \n",
      "4   105643   R32  \n"
     ]
    },
    {
     "name": "stderr",
     "output_type": "stream",
     "text": [
      "<ipython-input-32-10eaf8b2f624>:10: SettingWithCopyWarning: \n",
      "A value is trying to be set on a copy of a slice from a DataFrame.\n",
      "Try using .loc[row_indexer,col_indexer] = value instead\n",
      "\n",
      "See the caveats in the documentation: https://pandas.pydata.org/pandas-docs/stable/user_guide/indexing.html#returning-a-view-versus-a-copy\n",
      "  dataMatches['winner_id'] = dataMatches['winner_id'].astype(str)\n",
      "<ipython-input-32-10eaf8b2f624>:11: SettingWithCopyWarning: \n",
      "A value is trying to be set on a copy of a slice from a DataFrame.\n",
      "Try using .loc[row_indexer,col_indexer] = value instead\n",
      "\n",
      "See the caveats in the documentation: https://pandas.pydata.org/pandas-docs/stable/user_guide/indexing.html#returning-a-view-versus-a-copy\n",
      "  dataMatches['loser_id'] = dataMatches['loser_id'].astype(str)\n"
     ]
    }
   ],
   "source": [
    "#deleted row 140087,\"Jason \"\"Jj\"\"\",Belan,R,19750604,GER\n",
    "#needed for correct conversion of column 'player_id' as str\n",
    "dataPlayers['player_id'] = dataPlayers['player_id'].astype(str)\n",
    "\n",
    "#reducing dataset for mathces to necessary columns only\n",
    "def reduceDataMatches(dataMatches):\n",
    "    dataMatches = dataMatches[['tourney_id','tourney_name', 'surface', 'tourney_level', 'tourney_date', 'winner_id', 'loser_id', 'round']]\n",
    "    \n",
    "    #set id to string, .gml format requring that\n",
    "    dataMatches['winner_id'] = dataMatches['winner_id'].astype(str)\n",
    "    dataMatches['loser_id'] = dataMatches['loser_id'].astype(str)\n",
    "    \n",
    "    return dataMatches\n",
    "\n",
    "#check for duplicates and empty values\n",
    "def checkDataSet(dataMatches):\n",
    "    #check for duplicates\n",
    "    print('before dropping duplicates: ' + str(dataMatches.shape))\n",
    "    dataMatches = dataMatches.drop_duplicates()\n",
    "    print('after dropping duplicates: ' + str(dataMatches.shape) + '\\n')\n",
    "\n",
    "    #check for empty values\n",
    "    print('check for empty values: \\n' + str(dataMatches.isna().any()) + '\\n')\n",
    "    \n",
    "    #print data types\n",
    "    print('print data types: \\n' + str(dataMatches.dtypes) + '\\n')\n",
    "    return\n",
    "\n",
    "dataMatches2018 = reduceDataMatches(dataMatches2018)\n",
    "checkDataSet(dataMatches2018)\n",
    "\n",
    "print(dataMatches2018.head())"
   ]
  },
  {
   "cell_type": "markdown",
   "metadata": {},
   "source": [
    "Izdvajanje igraca koji su igrali i njihovih atributa(id igraca, ime i prezime, zemlja, kasnije se dodaje rang)"
   ]
  },
  {
   "cell_type": "code",
   "execution_count": 23,
   "metadata": {},
   "outputs": [],
   "source": [
    "import datetime\n",
    "\n",
    "def calculateRankForPlayer(dataRanks, playerId, startDateString, endDateString):\n",
    "    #calculate total duration in days\n",
    "    startDate = datetime.datetime.strptime(startDateString, \"%Y%m%d\").date()\n",
    "    endDate = datetime.datetime.strptime(endDateString, \"%Y%m%d\").date()\n",
    "    totalDuration = endDate - startDate\n",
    "    totalDuration = totalDuration.days\n",
    "    \n",
    "    bestRank = 1000000\n",
    "    worstRank = -1\n",
    "    weightRank = 0\n",
    "    weightPoints = 0.0\n",
    "    firstIter = True\n",
    "    \n",
    "    ranks = dataRanks.loc[(dataRanks['player'] == playerId) & (dataRanks['ranking_date'] > startDateString) & (dataRanks['ranking_date'] < endDateString)]\n",
    "    \n",
    "    #print(ranks)\n",
    "    \n",
    "    for i, rankRow in ranks.iterrows():\n",
    "        #print(rankRow)\n",
    "        \n",
    "        #ranking date at index 0\n",
    "        currentDateString = str(rankRow[0])\n",
    "        currentDate = datetime.datetime.strptime(currentDateString, \"%Y%m%d\").date()\n",
    "        \n",
    "        if not firstIter:            \n",
    "            dateDiff = currentDate - prevDate\n",
    "            dayDiff = dateDiff.days\n",
    "            \n",
    "            #rank at index 1\n",
    "            rank = rankRow[1]\n",
    "            #points at index 3\n",
    "            points = rankRow[3]\n",
    "            \n",
    "            if rank < bestRank:\n",
    "                bestRank = rank\n",
    "            if rank > worstRank:\n",
    "                worstRank = rank\n",
    "            \n",
    "            weightRank += rank * dayDiff\n",
    "            weightPoints += points * dayDiff\n",
    "        \n",
    "        firstIter = False\n",
    "        prevDate = currentDate\n",
    "    \n",
    "    #print(str(weightRank))\n",
    "    weightRank /= totalDuration\n",
    "    weightPoints /= totalDuration\n",
    "    \n",
    "    #no ranking\n",
    "    if worstRank == -1:\n",
    "        bestRank = 3000\n",
    "        worstRank = 3000\n",
    "        weightRank = 3000.0\n",
    "        weightPoints = 0.0\n",
    "    \n",
    "    #print(str(bestRank))\n",
    "    #print(str(worstRank))\n",
    "    #print(str(weightRank))\n",
    "    \n",
    "    return bestRank, worstRank, weightRank, round(weightRank), weightPoints\n",
    "\n",
    "#nadal\n",
    "#calculateRankForPlayer(dataRanks10, '104745', '20171231', '20190101')\n",
    "\n",
    "#novak\n",
    "#calculateRankForPlayer(dataRanks10, '104925', '20171231', '20190101')"
   ]
  },
  {
   "cell_type": "code",
   "execution_count": 40,
   "metadata": {},
   "outputs": [
    {
     "name": "stdout",
     "output_type": "stream",
     "text": [
      "(49, 8)\n"
     ]
    },
    {
     "data": {
      "text/plain": [
       "(45, 4)"
      ]
     },
     "execution_count": 40,
     "metadata": {},
     "output_type": "execute_result"
    }
   ],
   "source": [
    "def analyzeMathcesForPlayer(dataMatches, playerId):\n",
    "    winningPlayerMatches = dataMatches.loc[dataMatches['winner_id'] == playerId]\n",
    "    losingPlayerMatches = dataMatches.loc[dataMatches['loser_id'] == playerId]\n",
    "    \n",
    "    allPlayerMatches = winningPlayerMatches + losingPlayerMatches\n",
    "    print(allPlayerMatches.shape)\n",
    "    \n",
    "    winCnt = winningPlayerMatches.shape[0]\n",
    "    losCnt = losingPlayerMatches.shape[0]\n",
    "    \n",
    "    return winCnt, losCnt\n",
    "\n",
    "#nadal\n",
    "analyzeMathcesForPlayer(dataMatches2018, '104745')\n",
    "\n",
    "#novak\n",
    "#calculateRankForPlayer(dataRanks10, '104925', '20171231', '20190101')"
   ]
  },
  {
   "cell_type": "code",
   "execution_count": 24,
   "metadata": {},
   "outputs": [
    {
     "name": "stdout",
     "output_type": "stream",
     "text": [
      "Postoji 419 različitih igrača\n",
      "\n",
      "('106220', {'labelToDisplay': 'Dimitar Kuzmanov, 304 (BUL)', 'countryCode': 'BUL', 'weightPoints': 160.5983606557377, 'bestRank': 249, 'worstRank': 386, 'weightRankFloat': 303.6393442622951, 'weightRank': 304})\n",
      "('126610', {'labelToDisplay': 'Matteo Berrettini, 81 (ITA)', 'countryCode': 'ITA', 'weightPoints': 733.9672131147541, 'bestRank': 52, 'worstRank': 130, 'weightRankFloat': 80.84426229508196, 'weightRank': 81})\n",
      "('207176', {'labelToDisplay': 'Muhammad Althaf Dhaifullah, 3000 (INA)', 'countryCode': 'INA', 'weightPoints': 0.0, 'bestRank': 3000, 'worstRank': 3000, 'weightRankFloat': 3000.0, 'weightRank': 3000})\n",
      "('105479', {'labelToDisplay': 'Alejandro Mendoza, 1165 (BOL)', 'countryCode': 'BOL', 'weightPoints': 6.540983606557377, 'bestRank': 948, 'worstRank': 1299, 'weightRankFloat': 1165.2896174863388, 'weightRank': 1165})\n",
      "('105691', {'labelToDisplay': 'Scott Griekspoor, 262 (NED)', 'countryCode': 'NED', 'weightPoints': 205.37158469945356, 'bestRank': 205, 'worstRank': 350, 'weightRankFloat': 262.2896174863388, 'weightRank': 262})\n",
      "('106281', {'labelToDisplay': 'Liam Broady, 212 (GBR)', 'countryCode': 'GBR', 'weightPoints': 270.8387978142076, 'bestRank': 154, 'worstRank': 321, 'weightRankFloat': 212.10382513661202, 'weightRank': 212})\n",
      "...\n"
     ]
    }
   ],
   "source": [
    "def preparePlayersForNodes(dataMatches, dataRanks, startDateString, endDateString):\n",
    "    listWinnerId = set(dataMatches['winner_id'].unique())\n",
    "    listLoserId = set(dataMatches['loser_id'].unique())\n",
    "\n",
    "    setPlayerId = listWinnerId.union(listLoserId)\n",
    "    print(f\"Postoji { len(setPlayerId) } različitih igrača\\n\") # formatiranje ispisa pomoću fstringa\n",
    "    \n",
    "    listForPlayerNodes = []\n",
    "    for player_id in setPlayerId:\n",
    "        player = dataPlayers.loc[dataPlayers['player_id'] == player_id]\n",
    "        \n",
    "        bestRank, worstRank, weightRankFloat, weightRank, weightPoints = calculateRankForPlayer(dataRanks, player_id, startDateString, endDateString)\n",
    "        labelToDisplay = player.iloc[0]['first_name'] + ' ' + player.iloc[0]['last_name'] + ', ' + str(weightRank)  + ' (' + player.iloc[0]['country_code'] + ')'\n",
    "        \n",
    "        #id must be string\n",
    "        playerForNode = (str(player.iloc[0]['player_id']), {'labelToDisplay': labelToDisplay, 'countryCode' : player.iloc[0]['country_code'], 'weightPoints' : weightPoints,\\\n",
    "                                                           'bestRank': bestRank, 'worstRank': worstRank, 'weightRankFloat': weightRankFloat, 'weightRank': weightRank})\n",
    "        \n",
    "        #print(playerForNode)\n",
    "        listForPlayerNodes.append(playerForNode)\n",
    "        \n",
    "    for i in range(6):\n",
    "        print(listForPlayerNodes[i])\n",
    "    print('...')\n",
    "    \n",
    "    return listForPlayerNodes\n",
    "\n",
    "listForPlayerNodes2018 = preparePlayersForNodes(dataMatches2018, dataRanks10, '20171231', '20190101')"
   ]
  },
  {
   "cell_type": "markdown",
   "metadata": {},
   "source": [
    "Čuvanje podataka"
   ]
  },
  {
   "cell_type": "code",
   "execution_count": 25,
   "metadata": {},
   "outputs": [],
   "source": [
    "import pickle\n",
    "\n",
    "with open(\"../output/atp_matches_cleaned_2018\", 'wb') as file:\n",
    "    pickle.dump(dataMatches2018, file)"
   ]
  },
  {
   "cell_type": "markdown",
   "metadata": {},
   "source": [
    "Učitavanje podataka u graf"
   ]
  },
  {
   "cell_type": "code",
   "execution_count": 26,
   "metadata": {},
   "outputs": [],
   "source": [
    "import networkx as nx\n",
    "\n",
    "graph2018 = nx.Graph() # pravi praznu mrežu\n",
    "graph2018.add_nodes_from(listForPlayerNodes2018) # dodaje čvorove "
   ]
  },
  {
   "cell_type": "code",
   "execution_count": 28,
   "metadata": {},
   "outputs": [
    {
     "name": "stdout",
     "output_type": "stream",
     "text": [
      "Name: \n",
      "Type: Graph\n",
      "Number of nodes: 419\n",
      "Number of edges: 2489\n",
      "Average degree:  11.8807\n"
     ]
    }
   ],
   "source": [
    "def addEdges(graph, dataMatches):\n",
    "    for _, _, _, _, _, _, winnderId, loserId in dataMatches.itertuples():\n",
    "        if (winnderId, loserId) in graph.edges:\n",
    "            graph.edges[winnderId, loserId]['weight'] += 1\n",
    "        else:\n",
    "            graph.add_edge(winnderId, loserId, weight = 1)\n",
    "            \n",
    "    return graph\n",
    "\n",
    "graph2018 = addEdges(graph2018, dataMatches2018)\n",
    "\n",
    "print(nx.info(graph2018))\n",
    "\n",
    "#save graph in .gml\n",
    "output_path = \"../output/undirected_graph_2018.gml\"\n",
    "nx.write_gml(graph2018, output_path)"
   ]
  },
  {
   "cell_type": "markdown",
   "metadata": {},
   "source": [
    "Usmrena mreža"
   ]
  },
  {
   "cell_type": "code",
   "execution_count": 22,
   "metadata": {},
   "outputs": [],
   "source": [
    "diGraph2018 = nx.DiGraph() # pravi praznu mrežu\n",
    "diGraph2018.add_nodes_from(listForPlayerNodes2018) # dodaje čvorove "
   ]
  },
  {
   "cell_type": "code",
   "execution_count": 12,
   "metadata": {},
   "outputs": [
    {
     "name": "stdout",
     "output_type": "stream",
     "text": [
      "Name: \n",
      "Type: DiGraph\n",
      "Number of nodes: 419\n",
      "Number of edges: 2644\n",
      "Average in degree:   6.3103\n",
      "Average out degree:   6.3103\n"
     ]
    }
   ],
   "source": [
    "def addEdgesDirectedGraph(graph, dataMatches):\n",
    "    for _, _, _, _, _, _, winnderId, loserId in dataMatches.itertuples():\n",
    "        if (winnderId, loserId) in graph.edges:\n",
    "            graph.edges[winnderId, loserId]['weight'] += 1\n",
    "        else:\n",
    "            graph.add_edge(winnderId, loserId, weight = 1)\n",
    "            \n",
    "    return graph\n",
    "\n",
    "diGraph2018 = addEdgesDirectedGraph(diGraph2018, dataMatches2018)\n",
    "\n",
    "print(nx.info(diGraph2018))"
   ]
  },
  {
   "cell_type": "code",
   "execution_count": null,
   "metadata": {},
   "outputs": [],
   "source": []
  }
 ],
 "metadata": {
  "kernelspec": {
   "display_name": "Python 3",
   "language": "python",
   "name": "python3"
  },
  "language_info": {
   "codemirror_mode": {
    "name": "ipython",
    "version": 3
   },
   "file_extension": ".py",
   "mimetype": "text/x-python",
   "name": "python",
   "nbconvert_exporter": "python",
   "pygments_lexer": "ipython3",
   "version": "3.8.5"
  }
 },
 "nbformat": 4,
 "nbformat_minor": 4
}
