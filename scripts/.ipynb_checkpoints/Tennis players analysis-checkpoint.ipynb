{
 "cells": [
  {
   "cell_type": "markdown",
   "metadata": {},
   "source": [
    "# Analiza mreže teniskih igrača"
   ]
  },
  {
   "cell_type": "markdown",
   "metadata": {},
   "source": [
    "Učitvanje podataka"
   ]
  },
  {
   "cell_type": "code",
   "execution_count": 1,
   "metadata": {},
   "outputs": [
    {
     "name": "stdout",
     "output_type": "stream",
     "text": [
      "dataMatches2018: (2889, 49)\n",
      "dataRanks10: (916296, 4)\n",
      "dataPlayers: (54974, 6)\n"
     ]
    }
   ],
   "source": [
    "import pandas as pd\n",
    "dataMatches2018Path = \"../data/atp_matches_2018.csv\"\n",
    "dataRanks10Path = \"../data/atp_rankings_10s.csv\"\n",
    "dataPlayersPath = \"../data/atp_players.csv\"\n",
    "\n",
    "dataMatches2018 = pd.read_csv(dataMatches2018Path)\n",
    "\n",
    "dataRanks10 = pd.read_csv(dataRanks10Path)\n",
    "\n",
    "#data modified so it contains header\n",
    "dataPlayers = pd.read_csv(dataPlayersPath)\n",
    "\n",
    "print('dataMatches2018: ' + str(dataMatches2018.shape))\n",
    "\n",
    "print('dataRanks10: ' + str(dataRanks10.shape))\n",
    "\n",
    "print('dataPlayers: ' + str(dataPlayers.shape))"
   ]
  },
  {
   "cell_type": "markdown",
   "metadata": {},
   "source": [
    "Kreiranje sekundarnog skupa podataka"
   ]
  },
  {
   "cell_type": "code",
   "execution_count": 2,
   "metadata": {},
   "outputs": [
    {
     "name": "stdout",
     "output_type": "stream",
     "text": [
      "check for empty values: \n",
      "ranking_date    False\n",
      "rank            False\n",
      "player          False\n",
      "points           True\n",
      "dtype: bool\n",
      "\n"
     ]
    }
   ],
   "source": [
    "#convert player_id and date to string\n",
    "dataRanks10['player'] = dataRanks10['player'].astype(str)\n",
    "dataRanks10['ranking_date'] = dataRanks10['ranking_date'].astype(str)\n",
    "\n",
    "#select only rows near 2018\n",
    "dataRanks10 = dataRanks10.iloc[761970:,]\n",
    "\n",
    "#print(dataRanks10.shape)\n",
    "#dataRanks10.drop_duplicates()\n",
    "#print(dataRanks10.shape)\n",
    "\n",
    "print('check for empty values: \\n' + str(dataRanks10.isna().any()) + '\\n')"
   ]
  },
  {
   "cell_type": "code",
   "execution_count": 3,
   "metadata": {},
   "outputs": [
    {
     "name": "stdout",
     "output_type": "stream",
     "text": [
      "before dropping duplicates: (2889, 8)\n",
      "after dropping duplicates: (2889, 8)\n",
      "\n",
      "check for empty values: \n",
      "tourney_id       False\n",
      "tourney_name     False\n",
      "surface          False\n",
      "tourney_level    False\n",
      "tourney_date     False\n",
      "winner_id        False\n",
      "loser_id         False\n",
      "round            False\n",
      "dtype: bool\n",
      "\n",
      "print data types: \n",
      "tourney_id       object\n",
      "tourney_name     object\n",
      "surface          object\n",
      "tourney_level    object\n",
      "tourney_date      int64\n",
      "winner_id        object\n",
      "loser_id         object\n",
      "round            object\n",
      "dtype: object\n",
      "\n",
      "  tourney_id tourney_name surface tourney_level  tourney_date winner_id  \\\n",
      "0  2018-M020     Brisbane    Hard             A      20180101    105992   \n",
      "1  2018-M020     Brisbane    Hard             A      20180101    111577   \n",
      "2  2018-M020     Brisbane    Hard             A      20180101    104797   \n",
      "3  2018-M020     Brisbane    Hard             A      20180101    200282   \n",
      "4  2018-M020     Brisbane    Hard             A      20180101    111581   \n",
      "\n",
      "  loser_id round  \n",
      "0   104919   R32  \n",
      "1   111442   R32  \n",
      "2   106000   R32  \n",
      "3   105449   R32  \n",
      "4   105643   R32  \n"
     ]
    },
    {
     "name": "stderr",
     "output_type": "stream",
     "text": [
      "<ipython-input-3-760da25ee0fe>:10: SettingWithCopyWarning: \n",
      "A value is trying to be set on a copy of a slice from a DataFrame.\n",
      "Try using .loc[row_indexer,col_indexer] = value instead\n",
      "\n",
      "See the caveats in the documentation: https://pandas.pydata.org/pandas-docs/stable/user_guide/indexing.html#returning-a-view-versus-a-copy\n",
      "  dataMatches['winner_id'] = dataMatches['winner_id'].astype(str)\n",
      "<ipython-input-3-760da25ee0fe>:11: SettingWithCopyWarning: \n",
      "A value is trying to be set on a copy of a slice from a DataFrame.\n",
      "Try using .loc[row_indexer,col_indexer] = value instead\n",
      "\n",
      "See the caveats in the documentation: https://pandas.pydata.org/pandas-docs/stable/user_guide/indexing.html#returning-a-view-versus-a-copy\n",
      "  dataMatches['loser_id'] = dataMatches['loser_id'].astype(str)\n"
     ]
    }
   ],
   "source": [
    "#deleted row 140087,\"Jason \"\"Jj\"\"\",Belan,R,19750604,GER\n",
    "#needed for correct conversion of column 'player_id' as str\n",
    "dataPlayers['player_id'] = dataPlayers['player_id'].astype(str)\n",
    "\n",
    "#reducing dataset for mathces to necessary columns only\n",
    "def reduceDataMatches(dataMatches):\n",
    "    dataMatches = dataMatches[['tourney_id','tourney_name', 'surface', 'tourney_level', 'tourney_date', 'winner_id', 'loser_id', 'round']]\n",
    "    \n",
    "    #set id to string, .gml format requring that\n",
    "    dataMatches['winner_id'] = dataMatches['winner_id'].astype(str)\n",
    "    dataMatches['loser_id'] = dataMatches['loser_id'].astype(str)\n",
    "    \n",
    "    return dataMatches\n",
    "\n",
    "#check for duplicates and empty values\n",
    "def checkDataSet(dataMatches):\n",
    "    #check for duplicates\n",
    "    print('before dropping duplicates: ' + str(dataMatches.shape))\n",
    "    dataMatches = dataMatches.drop_duplicates()\n",
    "    print('after dropping duplicates: ' + str(dataMatches.shape) + '\\n')\n",
    "\n",
    "    #check for empty values\n",
    "    print('check for empty values: \\n' + str(dataMatches.isna().any()) + '\\n')\n",
    "    \n",
    "    #print data types\n",
    "    print('print data types: \\n' + str(dataMatches.dtypes) + '\\n')\n",
    "    return\n",
    "\n",
    "dataMatches2018 = reduceDataMatches(dataMatches2018)\n",
    "checkDataSet(dataMatches2018)\n",
    "\n",
    "print(dataMatches2018.head())"
   ]
  },
  {
   "cell_type": "markdown",
   "metadata": {},
   "source": [
    "Izdvajanje igraca koji su igrali i njihovih atributa(id igraca, ime i prezime, zemlja, kasnije se dodaje rang)"
   ]
  },
  {
   "cell_type": "code",
   "execution_count": 4,
   "metadata": {},
   "outputs": [],
   "source": [
    "import datetime\n",
    "\n",
    "def calculateRankForPlayer(dataRanks, playerId, startDateString, endDateString):\n",
    "    #calculate total duration in days\n",
    "    startDate = datetime.datetime.strptime(startDateString, \"%Y%m%d\").date()\n",
    "    endDate = datetime.datetime.strptime(endDateString, \"%Y%m%d\").date()\n",
    "    totalDuration = endDate - startDate\n",
    "    totalDuration = totalDuration.days\n",
    "    \n",
    "    bestRank = 1000000\n",
    "    worstRank = -1\n",
    "    weightRank = 0\n",
    "    weightPoints = 0.0\n",
    "    firstIter = True\n",
    "    \n",
    "    ranks = dataRanks.loc[(dataRanks['player'] == playerId) & (dataRanks['ranking_date'] > startDateString) & (dataRanks['ranking_date'] < endDateString)]\n",
    "    \n",
    "    #print(ranks)\n",
    "    \n",
    "    for i, rankRow in ranks.iterrows():\n",
    "        #print(rankRow)\n",
    "        \n",
    "        #ranking date at index 0\n",
    "        currentDateString = str(rankRow[0])\n",
    "        currentDate = datetime.datetime.strptime(currentDateString, \"%Y%m%d\").date()\n",
    "        \n",
    "        if not firstIter:            \n",
    "            dateDiff = currentDate - prevDate\n",
    "            dayDiff = dateDiff.days\n",
    "            \n",
    "            #rank at index 1\n",
    "            rank = rankRow[1]\n",
    "            #points at index 3\n",
    "            points = rankRow[3]\n",
    "            \n",
    "            if rank < bestRank:\n",
    "                bestRank = rank\n",
    "            if rank > worstRank:\n",
    "                worstRank = rank\n",
    "            \n",
    "            weightRank += rank * dayDiff\n",
    "            weightPoints += points * dayDiff\n",
    "        \n",
    "        firstIter = False\n",
    "        prevDate = currentDate\n",
    "    \n",
    "    #print(str(weightRank))\n",
    "    weightRank /= totalDuration\n",
    "    weightPoints /= totalDuration\n",
    "    \n",
    "    #no ranking\n",
    "    if worstRank == -1:\n",
    "        bestRank = 3000\n",
    "        worstRank = 3000\n",
    "        weightRank = 3000.0\n",
    "        weightPoints = 0.0\n",
    "    \n",
    "    #print(str(bestRank))\n",
    "    #print(str(worstRank))\n",
    "    #print(str(weightRank))\n",
    "    \n",
    "    return bestRank, worstRank, weightRank, round(weightRank), weightPoints\n",
    "\n",
    "#nadal\n",
    "#calculateRankForPlayer(dataRanks10, '104745', '20171231', '20190101')\n",
    "\n",
    "#novak\n",
    "#calculateRankForPlayer(dataRanks10, '104925', '20171231', '20190101')"
   ]
  },
  {
   "cell_type": "code",
   "execution_count": 86,
   "metadata": {},
   "outputs": [
    {
     "data": {
      "text/plain": [
       "(58, 19, 23, 4, 1, 0)"
      ]
     },
     "execution_count": 86,
     "metadata": {},
     "output_type": "execute_result"
    }
   ],
   "source": [
    "def analyzeMathcesForPlayer(dataMatches, playerId):\n",
    "    winningPlayerMatches = dataMatches.loc[dataMatches['winner_id'] == playerId]\n",
    "    losingPlayerMatches = dataMatches.loc[dataMatches['loser_id'] == playerId]\n",
    "    \n",
    "    allPlayerMatches = pd.concat([winningPlayerMatches, losingPlayerMatches])\n",
    "    \n",
    "    winCnt = winningPlayerMatches.shape[0]\n",
    "    losCnt = losingPlayerMatches.shape[0]\n",
    "    \n",
    "    tourneysParticipated = set(allPlayerMatches['tourney_id'].unique())\n",
    "    \n",
    "    tourneysWon = winningPlayerMatches.loc[winningPlayerMatches['round'] == 'F'].shape[0]\n",
    "    mastersWon = winningPlayerMatches.loc[(winningPlayerMatches['round'] == 'F') & (winningPlayerMatches['tourney_level'] == 'M')].shape[0]\n",
    "    grandSlamWon = winningPlayerMatches.loc[(winningPlayerMatches['round'] == 'F') & (winningPlayerMatches['tourney_level'] == 'G')].shape[0]\n",
    "    \n",
    "    return winCnt, losCnt, len(tourneysParticipated), tourneysWon, mastersWon, grandSlamWon\n",
    "\n",
    "#zverev\n",
    "100644\n",
    "analyzeMathcesForPlayer(dataMatches2018, '100644')\n",
    "\n",
    "#nadal\n",
    "#analyzeMathcesForPlayer(dataMatches2018, '104745')\n",
    "\n",
    "#novak\n",
    "#analyzeMathcesForPlayer(dataMatches2018, '104925')"
   ]
  },
  {
   "cell_type": "code",
   "execution_count": 6,
   "metadata": {},
   "outputs": [
    {
     "name": "stdout",
     "output_type": "stream",
     "text": [
      "most unique tourneys for players:\n",
      "             labelToDisplay  winCnt  losCnt  tourneysParticipated  \\\n",
      "124     Damir Dzumhur (BIH)      25      31                    32   \n",
      "157     Mischa Zverev (GER)      19      29                    30   \n",
      "57   Adrian Mannarino (FRA)      26      30                    30   \n",
      "387       Robin Haase (NED)      24      31                    30   \n",
      "305      Albert Ramos (ESP)      21      28                    30   \n",
      "\n",
      "     tourneysWon  mastersWon  grandSlamWon  \n",
      "124            1           0             0  \n",
      "157            1           0             0  \n",
      "57             0           0             0  \n",
      "387            0           0             0  \n",
      "305            0           0             0  \n",
      "most wins for players:\n",
      "             labelToDisplay  winCnt  losCnt  tourneysParticipated  \\\n",
      "108  Alexander Zverev (GER)      58      19                    23   \n",
      "330     Dominic Thiem (AUT)      54      21                    25   \n",
      "409    Novak Djokovic (SRB)      53      12                    16   \n",
      "214     Roger Federer (SUI)      49      10                    13   \n",
      "336    Kevin Anderson (RSA)      48      19                    20   \n",
      "\n",
      "     tourneysWon  mastersWon  grandSlamWon  \n",
      "108            4           1             0  \n",
      "330            3           0             0  \n",
      "409            4           2             2  \n",
      "214            4           0             1  \n",
      "336            2           0             0  \n",
      "most tourneys won for players:\n",
      "             labelToDisplay  winCnt  losCnt  tourneysParticipated  \\\n",
      "296      Rafael Nadal (ESP)      45       4                    10   \n",
      "108  Alexander Zverev (GER)      58      19                    23   \n",
      "214     Roger Federer (SUI)      49      10                    13   \n",
      "409    Novak Djokovic (SRB)      53      12                    16   \n",
      "330     Dominic Thiem (AUT)      54      21                    25   \n",
      "\n",
      "     tourneysWon  mastersWon  grandSlamWon  \n",
      "296            5           3             1  \n",
      "108            4           1             0  \n",
      "214            4           0             1  \n",
      "409            4           2             2  \n",
      "330            3           0             0  \n"
     ]
    }
   ],
   "source": [
    "#for now, most unique tourneys for players\n",
    "#expand in future if needed\n",
    "\n",
    "def analyzeAllPlayersByMatches(dataMatches):\n",
    "    listWinnerId = set(dataMatches['winner_id'].unique())\n",
    "    listLoserId = set(dataMatches['loser_id'].unique())\n",
    "\n",
    "    setPlayerId = listWinnerId.union(listLoserId)\n",
    "    listPlayerStats = []\n",
    "    \n",
    "    for playerId in setPlayerId:\n",
    "        player = dataPlayers.loc[dataPlayers['player_id'] == playerId]\n",
    "        \n",
    "        winCnt, losCnt, tourneysParticipated, tourneysWon, mastersWon, grandSlamWon = analyzeMathcesForPlayer(dataMatches, playerId)\n",
    "        labelToDisplay = player.iloc[0]['first_name'] + ' ' + player.iloc[0]['last_name'] +  ' (' + player.iloc[0]['country_code'] + ')'\n",
    "        playerStats = [labelToDisplay, winCnt, losCnt, tourneysParticipated, tourneysWon, mastersWon, grandSlamWon]\n",
    "        \n",
    "        listPlayerStats.append(playerStats)\n",
    "    \n",
    "    print('most unique tourneys for players:')\n",
    "    dataStats = pd.DataFrame(listPlayerStats, columns =['labelToDisplay', 'winCnt', 'losCnt', 'tourneysParticipated', 'tourneysWon', 'mastersWon', 'grandSlamWon'], dtype = int)    \n",
    "    dataStats = dataStats.sort_values('tourneysParticipated', ascending = False)\n",
    "    print(dataStats.head(5))\n",
    "    \n",
    "    print('most wins for players:')\n",
    "    dataStats = pd.DataFrame(listPlayerStats, columns =['labelToDisplay', 'winCnt', 'losCnt', 'tourneysParticipated', 'tourneysWon', 'mastersWon', 'grandSlamWon'], dtype = int)    \n",
    "    dataStats = dataStats.sort_values('winCnt', ascending = False)\n",
    "    print(dataStats.head(5))\n",
    "    \n",
    "    print('most tourneys won for players:')\n",
    "    dataStats = pd.DataFrame(listPlayerStats, columns =['labelToDisplay', 'winCnt', 'losCnt', 'tourneysParticipated', 'tourneysWon', 'mastersWon', 'grandSlamWon'], dtype = int)    \n",
    "    dataStats = dataStats.sort_values('tourneysWon', ascending = False)\n",
    "    print(dataStats.head(5))\n",
    "    \n",
    "    return\n",
    "\n",
    "analyzeAllPlayersByMatches(dataMatches2018)\n"
   ]
  },
  {
   "cell_type": "code",
   "execution_count": 7,
   "metadata": {},
   "outputs": [
    {
     "name": "stdout",
     "output_type": "stream",
     "text": [
      "Postoji 419 različitih igrača\n",
      "\n",
      "('138846', {'labelToDisplay': 'Hong Kit Jack Wong, 958 (HKG)', 'countryCode': 'HKG', 'weightPoints': 14.0, 'bestRank': 653, 'worstRank': 1182, 'weightRankFloat': 958.0245901639345, 'weightRank': 958})\n",
      "('106175', {'labelToDisplay': 'Ricardo Rodriguez, 760 (VEN)', 'countryCode': 'VEN', 'weightPoints': 26.62295081967213, 'bestRank': 565, 'worstRank': 838, 'weightRankFloat': 760.3989071038251, 'weightRank': 760})\n",
      "('105870', {'labelToDisplay': 'Yannick Hanfmann, 128 (GER)', 'countryCode': 'GER', 'weightPoints': 444.61475409836066, 'bestRank': 99, 'worstRank': 159, 'weightRankFloat': 127.85519125683061, 'weightRank': 128})\n",
      "('104719', {'labelToDisplay': 'Marcel Granollers, 116 (ESP)', 'countryCode': 'ESP', 'weightPoints': 496.3879781420765, 'bestRank': 94, 'worstRank': 149, 'weightRankFloat': 115.53825136612022, 'weightRank': 116})\n",
      "('200273', {'labelToDisplay': 'Hady Habib, 780 (LIB)', 'countryCode': 'LIB', 'weightPoints': 27.407103825136613, 'bestRank': 608, 'worstRank': 1077, 'weightRankFloat': 780.0409836065573, 'weightRank': 780})\n",
      "('105273', {'labelToDisplay': 'Mauricio Echazu, 676 (PER)', 'countryCode': 'PER', 'weightPoints': 33.202185792349724, 'bestRank': 555, 'worstRank': 744, 'weightRankFloat': 675.7486338797814, 'weightRank': 676})\n",
      "...\n"
     ]
    }
   ],
   "source": [
    "def preparePlayersForNodes(dataMatches, dataRanks, startDateString, endDateString):\n",
    "    listWinnerId = set(dataMatches['winner_id'].unique())\n",
    "    listLoserId = set(dataMatches['loser_id'].unique())\n",
    "\n",
    "    setPlayerId = listWinnerId.union(listLoserId)\n",
    "    print(f\"Postoji { len(setPlayerId) } različitih igrača\\n\") # formatiranje ispisa pomoću fstringa\n",
    "    \n",
    "    listForPlayerNodes = []\n",
    "    for player_id in setPlayerId:\n",
    "        player = dataPlayers.loc[dataPlayers['player_id'] == player_id]\n",
    "        \n",
    "        bestRank, worstRank, weightRankFloat, weightRank, weightPoints = calculateRankForPlayer(dataRanks, player_id, startDateString, endDateString)\n",
    "        labelToDisplay = player.iloc[0]['first_name'] + ' ' + player.iloc[0]['last_name'] + ', ' + str(weightRank)  + ' (' + player.iloc[0]['country_code'] + ')'\n",
    "        \n",
    "        #id must be string\n",
    "        playerForNode = (str(player.iloc[0]['player_id']), {'labelToDisplay': labelToDisplay, 'countryCode' : player.iloc[0]['country_code'], 'weightPoints' : weightPoints,\\\n",
    "                                                           'bestRank': bestRank, 'worstRank': worstRank, 'weightRankFloat': weightRankFloat, 'weightRank': weightRank})\n",
    "        \n",
    "        #print(playerForNode)\n",
    "        listForPlayerNodes.append(playerForNode)\n",
    "        \n",
    "    for i in range(6):\n",
    "        print(listForPlayerNodes[i])\n",
    "    print('...')\n",
    "    \n",
    "    return listForPlayerNodes\n",
    "\n",
    "listForPlayerNodes2018 = preparePlayersForNodes(dataMatches2018, dataRanks10, '20171231', '20190101')"
   ]
  },
  {
   "cell_type": "code",
   "execution_count": 8,
   "metadata": {},
   "outputs": [
    {
     "data": {
      "image/png": "[encoded data removed]",
      "text/plain": [
       "<Figure size 576x432 with 1 Axes>"
      ]
     },
     "metadata": {
      "needs_background": "light"
     },
     "output_type": "display_data"
    },
    {
     "data": {
      "image/png": "[encoded data removed]",
      "text/plain": [
       "<Figure size 576x432 with 1 Axes>"
      ]
     },
     "metadata": {
      "needs_background": "light"
     },
     "output_type": "display_data"
    }
   ],
   "source": [
    "#analyze tournaments and matches by surface\n",
    "import matplotlib.pyplot as plt\n",
    "import matplotlib.patches as mpatches\n",
    "import seaborn as sns\n",
    "\n",
    "def analyzeBySurface(dataMatches):\n",
    "    dataMatchesGroups = dataMatches.groupby('surface')\n",
    "    \n",
    "    surfaceList = [name for name,_ in dataMatchesGroups]\n",
    "    matchCntList = []\n",
    "    tourneyCntList = []\n",
    "    \n",
    "    for surface in surfaceList:\n",
    "        matchCnt = dataMatchesGroups.get_group(surface).shape[0]\n",
    "        matchCntList.append(matchCnt)\n",
    "        \n",
    "        setTourneys = set(dataMatchesGroups.get_group(surface)['tourney_id'].unique())\n",
    "        tourneyCnt = len(setTourneys)\n",
    "        tourneyCntList.append(tourneyCnt)\n",
    "    \n",
    "    palette = sns.color_palette([\"#e1812c\", \"#3a923a\", \"#3274a1\"])\n",
    "    \n",
    "    #plot distribution for matches\n",
    "    df = pd.DataFrame({\"surface\":surfaceList, \"matchCnt\":matchCntList})\n",
    "    plt.figure(figsize=(8, 6))\n",
    "    splot = sns.barplot(x=\"surface\", y=\"matchCnt\", data=df, palette=palette)\n",
    "    \n",
    "    for p in splot.patches:\n",
    "        splot.annotate(format(p.get_height(), '.0f'), \n",
    "                       (p.get_x() + p.get_width() / 2., p.get_height()), \n",
    "                       ha = 'center', va = 'center', \n",
    "                       xytext = (0, 9), \n",
    "                       textcoords = 'offset points')\n",
    "    \n",
    "    plt.xlabel(\"Surface\", size=14)\n",
    "    plt.ylabel(\"Number of matches\", size=14)\n",
    "    \n",
    "    label = 'Total number of matches: ' + str(sum(matchCntList))\n",
    "    totalPatch = mpatches.Patch(color='red', label=label)\n",
    "    plt.legend(handles=[totalPatch])\n",
    "    \n",
    "    #plot distribution for tourneys\n",
    "    df = pd.DataFrame({\"surface\":surfaceList, \"tourneyCnt\":tourneyCntList})\n",
    "    plt.figure(figsize=(8, 6))\n",
    "    splot = sns.barplot(x=\"surface\", y=\"tourneyCnt\", data=df, palette=palette)\n",
    "    \n",
    "    for p in splot.patches:\n",
    "        splot.annotate(format(p.get_height(), '.0f'), \n",
    "                       (p.get_x() + p.get_width() / 2., p.get_height()), \n",
    "                       ha = 'center', va = 'center', \n",
    "                       xytext = (0, 9), \n",
    "                       textcoords = 'offset points')\n",
    "    \n",
    "    plt.xlabel(\"Surface\", size=14)\n",
    "    plt.ylabel(\"Number of tournaments\", size=14)\n",
    "    \n",
    "    label = 'Total number of tournaments: ' + str(sum(tourneyCntList))\n",
    "    totalPatch = mpatches.Patch(color='red', label=label)\n",
    "    plt.legend(handles=[totalPatch])\n",
    "    \n",
    "    return\n",
    "\n",
    "analyzeBySurface(dataMatches2018)"
   ]
  },
  {
   "cell_type": "markdown",
   "metadata": {},
   "source": [
    "Čuvanje podataka"
   ]
  },
  {
   "cell_type": "code",
   "execution_count": 9,
   "metadata": {},
   "outputs": [],
   "source": [
    "import pickle\n",
    "\n",
    "with open(\"../output/atp_matches_cleaned_2018\", 'wb') as file:\n",
    "    pickle.dump(dataMatches2018, file)"
   ]
  },
  {
   "cell_type": "markdown",
   "metadata": {},
   "source": [
    "Učitavanje podataka u graf"
   ]
  },
  {
   "cell_type": "code",
   "execution_count": 10,
   "metadata": {},
   "outputs": [],
   "source": [
    "import networkx as nx\n",
    "\n",
    "graph2018 = nx.Graph()\n",
    "graph2018.add_nodes_from(listForPlayerNodes2018)"
   ]
  },
  {
   "cell_type": "code",
   "execution_count": 12,
   "metadata": {},
   "outputs": [
    {
     "name": "stdout",
     "output_type": "stream",
     "text": [
      "Name: \n",
      "Type: Graph\n",
      "Number of nodes: 419\n",
      "Number of edges: 2489\n",
      "Average degree:  11.8807\n"
     ]
    }
   ],
   "source": [
    "def addEdges(graph, dataMatches):\n",
    "    for _, _, _, _, _, _, winnderId, loserId, _ in dataMatches.itertuples():\n",
    "        if (winnderId, loserId) in graph.edges:\n",
    "            graph.edges[winnderId, loserId]['weight'] += 1\n",
    "        else:\n",
    "            graph.add_edge(winnderId, loserId, weight = 1)\n",
    "            \n",
    "    return graph\n",
    "\n",
    "graph2018 = addEdges(graph2018, dataMatches2018)\n",
    "\n",
    "print(nx.info(graph2018))\n",
    "\n",
    "#save graph in .gml\n",
    "output_path = \"../output/undirected_graph_2018.gml\"\n",
    "nx.write_gml(graph2018, output_path)"
   ]
  },
  {
   "cell_type": "markdown",
   "metadata": {},
   "source": [
    "Analiza asortativnosti"
   ]
  },
  {
   "cell_type": "code",
   "execution_count": 19,
   "metadata": {},
   "outputs": [
    {
     "name": "stdout",
     "output_type": "stream",
     "text": [
      "Koeficijent asortativnosti na osnovu netežinskog stepena čvora: 0.21868975600564688\n",
      "Koeficijent asortativnosti na osnovu težinskog stepena čvora(broj mečeva): 0.22945507317379313\n",
      "Koeficijent asortativnosti na osnovu zemlje igrača: 0.017737013898119845\n",
      "Koeficijent asortativnosti na osnovu ranga igrača: -0.006091809945328866\n"
     ]
    }
   ],
   "source": [
    "def analyzeAssortativity(graph):\n",
    "    r1 = nx.degree_assortativity_coefficient(graph)\n",
    "    print(f\"Koeficijent asortativnosti na osnovu netežinskog stepena čvora: {r1}\")\n",
    "\n",
    "    r2 = nx.degree_assortativity_coefficient(graph, weight='weight')\n",
    "    print(f\"Koeficijent asortativnosti na osnovu težinskog stepena čvora(broj mečeva): {r2}\")\n",
    "    \n",
    "    r3 = nx.attribute_assortativity_coefficient(graph, 'countryCode')\n",
    "    print(f\"Koeficijent asortativnosti na osnovu zemlje igrača: {r3}\")\n",
    "    \n",
    "    r4 = nx.attribute_assortativity_coefficient(graph, 'weightRank')\n",
    "    print(f\"Koeficijent asortativnosti na osnovu ranga igrača: {r4}\")\n",
    "    \n",
    "    return\n",
    "\n",
    "analyzeAssortativity(graph2018)"
   ]
  },
  {
   "cell_type": "markdown",
   "metadata": {},
   "source": [
    "Analiza klasterisanja"
   ]
  },
  {
   "cell_type": "code",
   "execution_count": 32,
   "metadata": {},
   "outputs": [
    {
     "name": "stdout",
     "output_type": "stream",
     "text": [
      "Max lokalni cc: 0.20000000000000004\n",
      "Prosečan cc: 0.12227548001603944\n",
      "Lokalni stepeni klasterisanja koji nisu nula:\n",
      "                                  label        cc\n",
      "124  Bernabe Zapata Miralles, 278 (ESP)  0.200000\n",
      "48              Mate Valkusz, 467 (HUN)  0.200000\n",
      "199           Vincent Millot, 310 (FRA)  0.200000\n",
      "25         Miomir Kecmanovic, 177 (SRB)  0.200000\n",
      "51              Liam Caruana, 509 (USA)  0.192659\n",
      "..                                  ...       ...\n",
      "68               Jurgen Zopp, 132 (EST)  0.015152\n",
      "95          Bjorn Fratangelo, 130 (USA)  0.014286\n",
      "186            Bernard Tomic, 145 (AUS)  0.013767\n",
      "121           Carlos Berlocq, 142 (ARG)  0.013333\n",
      "176          Henri Laaksonen, 141 (SUI)  0.003030\n",
      "\n",
      "[204 rows x 2 columns]\n"
     ]
    }
   ],
   "source": [
    "def analyzeClustering(graph):\n",
    "    playerIdList, clusteringCoefList = zip(*nx.clustering(graph, weight = \"weight\").items())\n",
    "    playerLabelList = []\n",
    "    \n",
    "    for pId in playerIdList:\n",
    "        playerLabel = graph.nodes[pId]['labelToDisplay']\n",
    "        playerLabelList.append(playerLabel)\n",
    "    \n",
    "    \n",
    "    \n",
    "    notZeroCoef = [(playerL, cc)  for playerL, cc in zip(playerLabelList, clusteringCoefList) if cc > 0]\n",
    "\n",
    "    df = pd.DataFrame(notZeroCoef, columns = [\"label\", \"cc\"])\n",
    "    df.sort_values('cc', inplace = True, ascending=False)\n",
    "\n",
    "    maxClusteringCoef = max(clusteringCoefList)\n",
    "\n",
    "    avgClusteringCoef = nx.average_clustering(graph)\n",
    "\n",
    "    print(f\"Max lokalni cc: {maxClusteringCoef}\")\n",
    "    print(f\"Prosečan cc: {avgClusteringCoef}\")\n",
    "    print(\"Lokalni stepeni klasterisanja koji nisu nula:\")\n",
    "    print(df)\n",
    "    \n",
    "    return\n",
    "\n",
    "analyzeClustering(graph2018)"
   ]
  },
  {
   "cell_type": "markdown",
   "metadata": {},
   "source": [
    "Detekcija jezgra, habova, racunanje dijametra itd"
   ]
  },
  {
   "cell_type": "code",
   "execution_count": 85,
   "metadata": {},
   "outputs": [
    {
     "name": "stdout",
     "output_type": "stream",
     "text": [
      "[366, 19, 4, 2, 2, 2, 2, 2, 2, 2, 2, 2, 2, 2, 2, 2, 2, 2]\n",
      "Name: \n",
      "Type: Graph\n",
      "Number of nodes: 419\n",
      "Number of edges: 418\n",
      "Average degree:   1.9952\n",
      "Procenat centralizcije mreze u odnosu na topologiju zvezde: 11.81%\n"
     ]
    }
   ],
   "source": [
    "import cpnet \n",
    "\n",
    "def analyzeCoreAndPeriphery(graph):\n",
    "    #print(nx.info(graph))\n",
    "    \n",
    "    algorithmToDetectCore = cpnet.KM_config()\n",
    "    algorithmToDetectCore.detect(graph)\n",
    "    \n",
    "    cornessClassDict = algorithmToDetectCore.get_coreness()\n",
    "    #print(cornessClassDict)\n",
    "    \n",
    "    coreIds = [key for key, val in cornessClassDict.items() if val == 1]\n",
    "    peripheryIds = [key for key, val in cornessClassDict.items() if val == 0]\n",
    "    \n",
    "    #find core and periphery\n",
    "    coreGraph = graph.subgraph(coreIds).copy()\n",
    "    print('\\nCore:')\n",
    "    print(nx.info(coreGraph))\n",
    "    #save graph in .gml\n",
    "    output_path = \"../output/core_2018.gml\"\n",
    "    nx.write_gml(coreGraph, output_path)\n",
    "    \n",
    "    print('\\nPeriphery:')\n",
    "    peripheryGraph = graph.subgraph(peripheryIds).copy()\n",
    "    print(nx.info(peripheryGraph))\n",
    "    #save graph in .gml\n",
    "    output_path = \"../output/periphery_2018.gml\"\n",
    "    nx.write_gml(peripheryGraph, output_path)\n",
    "    \n",
    "    \n",
    "    return\n",
    "\n",
    "def analyzeConnectivityAndCentrality(graph):\n",
    "    #connected components\n",
    "    ccSizes = [len(c) for c in sorted(nx.connected_components(graph), key=len, reverse=True)]\n",
    "    print(ccSizes)\n",
    "    \n",
    "    #generate star graph and compare degree centrality\n",
    "    starGraph = nx.star_graph(len(graph) - 1)\n",
    "    #print(nx.info(starGraph))\n",
    "    \n",
    "    dicGraphDC = nx.degree_centrality(graph)\n",
    "    dicStarGraphDC = nx.degree_centrality(starGraph)\n",
    "    \n",
    "    listGraphDC = list(dicGraphDC.values())\n",
    "    listStarGraphDC = list(dicStarGraphDC.values())\n",
    "    \n",
    "    maxGraphDC = max(listGraphDC)\n",
    "    maxStarGraphDC = max(listStarGraphDC)\n",
    "    \n",
    "    sumListGraph = sum([maxGraphDC - x for x in listGraphDC])\n",
    "    sumListStarGraph = sum([maxStarGraphDC - x for x in listStarGraphDC])\n",
    "    \n",
    "    \n",
    "    print(\"Procenat centralizcije mreze u odnosu na topologiju zvezde: \" + str(round((sumListGraph*100/sumListStarGraph), 2)) + \"%\")\n",
    "    \n",
    "    return\n",
    "\n",
    "#analyzeCoreAndPeriphery(graph2018)\n",
    "analyzeConnectivityAndCentrality(graph2018)"
   ]
  },
  {
   "cell_type": "markdown",
   "metadata": {},
   "source": [
    "Usmrena mreža"
   ]
  },
  {
   "cell_type": "code",
   "execution_count": null,
   "metadata": {},
   "outputs": [],
   "source": [
    "diGraph2018 = nx.DiGraph() # pravi praznu mrežu\n",
    "diGraph2018.add_nodes_from(listForPlayerNodes2018) # dodaje čvorove "
   ]
  },
  {
   "cell_type": "code",
   "execution_count": null,
   "metadata": {},
   "outputs": [],
   "source": [
    "def addEdgesDirectedGraph(graph, dataMatches):\n",
    "    for _, _, _, _, _, _, winnderId, loserId in dataMatches.itertuples():\n",
    "        if (winnderId, loserId) in graph.edges:\n",
    "            graph.edges[winnderId, loserId]['weight'] += 1\n",
    "        else:\n",
    "            graph.add_edge(winnderId, loserId, weight = 1)\n",
    "            \n",
    "    return graph\n",
    "\n",
    "diGraph2018 = addEdgesDirectedGraph(diGraph2018, dataMatches2018)\n",
    "\n",
    "print(nx.info(diGraph2018))"
   ]
  },
  {
   "cell_type": "code",
   "execution_count": null,
   "metadata": {},
   "outputs": [],
   "source": []
  }
 ],
 "metadata": {
  "kernelspec": {
   "display_name": "Python 3",
   "language": "python",
   "name": "python3"
  },
  "language_info": {
   "codemirror_mode": {
    "name": "ipython",
    "version": 3
   },
   "file_extension": ".py",
   "mimetype": "text/x-python",
   "name": "python",
   "nbconvert_exporter": "python",
   "pygments_lexer": "ipython3",
   "version": "3.8.5"
  }
 },
 "nbformat": 4,
 "nbformat_minor": 4
}
